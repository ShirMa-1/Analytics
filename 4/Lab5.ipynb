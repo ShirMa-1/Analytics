{
 "cells": [
  {
   "cell_type": "code",
   "execution_count": 1,
   "metadata": {},
   "outputs": [],
   "source": [
    "import numpy as np\n",
    "from scipy.stats import t\n",
    "from scipy.stats import norm\n",
    "import matplotlib.pyplot as plt\n",
    "from scipy import stats\n",
    "import pandas as pd\n",
    "import io\n",
    "import requests\n",
    "import seaborn as sns\n",
    "import statistics\n",
    "from scipy.stats import pearsonr\n",
    "from sklearn.metrics import mean_squared_error, mean_absolute_error\n",
    "import random\n",
    "%matplotlib inline"
   ]
  },
  {
   "cell_type": "markdown",
   "metadata": {},
   "source": [
    "# Задание 1"
   ]
  },
  {
   "cell_type": "code",
   "execution_count": 5,
   "metadata": {},
   "outputs": [
    {
     "data": {
      "text/html": [
       "<div>\n",
       "<style scoped>\n",
       "    .dataframe tbody tr th:only-of-type {\n",
       "        vertical-align: middle;\n",
       "    }\n",
       "\n",
       "    .dataframe tbody tr th {\n",
       "        vertical-align: top;\n",
       "    }\n",
       "\n",
       "    .dataframe thead th {\n",
       "        text-align: right;\n",
       "    }\n",
       "</style>\n",
       "<table border=\"1\" class=\"dataframe\">\n",
       "  <thead>\n",
       "    <tr style=\"text-align: right;\">\n",
       "      <th></th>\n",
       "      <th>No</th>\n",
       "      <th>Rooms</th>\n",
       "      <th>DistMetro</th>\n",
       "      <th>Area</th>\n",
       "      <th>Price</th>\n",
       "    </tr>\n",
       "  </thead>\n",
       "  <tbody>\n",
       "    <tr>\n",
       "      <th>0</th>\n",
       "      <td>1</td>\n",
       "      <td>3</td>\n",
       "      <td>12</td>\n",
       "      <td>56</td>\n",
       "      <td>9396</td>\n",
       "    </tr>\n",
       "    <tr>\n",
       "      <th>1</th>\n",
       "      <td>2</td>\n",
       "      <td>2</td>\n",
       "      <td>4</td>\n",
       "      <td>54</td>\n",
       "      <td>9785</td>\n",
       "    </tr>\n",
       "    <tr>\n",
       "      <th>2</th>\n",
       "      <td>3</td>\n",
       "      <td>1</td>\n",
       "      <td>2</td>\n",
       "      <td>31</td>\n",
       "      <td>5783</td>\n",
       "    </tr>\n",
       "    <tr>\n",
       "      <th>3</th>\n",
       "      <td>4</td>\n",
       "      <td>2</td>\n",
       "      <td>8</td>\n",
       "      <td>48</td>\n",
       "      <td>9123</td>\n",
       "    </tr>\n",
       "    <tr>\n",
       "      <th>4</th>\n",
       "      <td>5</td>\n",
       "      <td>1</td>\n",
       "      <td>11</td>\n",
       "      <td>31</td>\n",
       "      <td>5662</td>\n",
       "    </tr>\n",
       "  </tbody>\n",
       "</table>\n",
       "</div>"
      ],
      "text/plain": [
       "   No  Rooms  DistMetro  Area  Price\n",
       "0   1      3         12    56   9396\n",
       "1   2      2          4    54   9785\n",
       "2   3      1          2    31   5783\n",
       "3   4      2          8    48   9123\n",
       "4   5      1         11    31   5662"
      ]
     },
     "execution_count": 5,
     "metadata": {},
     "output_type": "execute_result"
    }
   ],
   "source": [
    "data = pd.read_excel('db.xlsx')\n",
    "data.head()"
   ]
  },
  {
   "cell_type": "code",
   "execution_count": 30,
   "metadata": {},
   "outputs": [
    {
     "data": {
      "text/plain": [
       "25000"
      ]
     },
     "execution_count": 30,
     "metadata": {},
     "output_type": "execute_result"
    }
   ],
   "source": [
    "data.size"
   ]
  },
  {
   "cell_type": "code",
   "execution_count": 9,
   "metadata": {},
   "outputs": [
    {
     "data": {
      "text/html": [
       "<div>\n",
       "<style scoped>\n",
       "    .dataframe tbody tr th:only-of-type {\n",
       "        vertical-align: middle;\n",
       "    }\n",
       "\n",
       "    .dataframe tbody tr th {\n",
       "        vertical-align: top;\n",
       "    }\n",
       "\n",
       "    .dataframe thead th {\n",
       "        text-align: right;\n",
       "    }\n",
       "</style>\n",
       "<table border=\"1\" class=\"dataframe\">\n",
       "  <thead>\n",
       "    <tr style=\"text-align: right;\">\n",
       "      <th></th>\n",
       "      <th>No</th>\n",
       "      <th>Rooms</th>\n",
       "      <th>DistMetro</th>\n",
       "      <th>Area</th>\n",
       "      <th>Price</th>\n",
       "    </tr>\n",
       "  </thead>\n",
       "  <tbody>\n",
       "    <tr>\n",
       "      <th>count</th>\n",
       "      <td>5000.000000</td>\n",
       "      <td>5000.000000</td>\n",
       "      <td>5000.000000</td>\n",
       "      <td>5000.000000</td>\n",
       "      <td>5000.000000</td>\n",
       "    </tr>\n",
       "    <tr>\n",
       "      <th>mean</th>\n",
       "      <td>2500.500000</td>\n",
       "      <td>1.999200</td>\n",
       "      <td>9.588000</td>\n",
       "      <td>47.558800</td>\n",
       "      <td>8550.912200</td>\n",
       "    </tr>\n",
       "    <tr>\n",
       "      <th>std</th>\n",
       "      <td>1443.520003</td>\n",
       "      <td>0.813715</td>\n",
       "      <td>5.795151</td>\n",
       "      <td>17.167431</td>\n",
       "      <td>2985.530681</td>\n",
       "    </tr>\n",
       "    <tr>\n",
       "      <th>min</th>\n",
       "      <td>1.000000</td>\n",
       "      <td>1.000000</td>\n",
       "      <td>0.000000</td>\n",
       "      <td>21.000000</td>\n",
       "      <td>2825.000000</td>\n",
       "    </tr>\n",
       "    <tr>\n",
       "      <th>25%</th>\n",
       "      <td>1250.750000</td>\n",
       "      <td>1.000000</td>\n",
       "      <td>5.000000</td>\n",
       "      <td>31.000000</td>\n",
       "      <td>5904.750000</td>\n",
       "    </tr>\n",
       "    <tr>\n",
       "      <th>50%</th>\n",
       "      <td>2500.500000</td>\n",
       "      <td>2.000000</td>\n",
       "      <td>10.000000</td>\n",
       "      <td>48.000000</td>\n",
       "      <td>8407.500000</td>\n",
       "    </tr>\n",
       "    <tr>\n",
       "      <th>75%</th>\n",
       "      <td>3750.250000</td>\n",
       "      <td>3.000000</td>\n",
       "      <td>15.000000</td>\n",
       "      <td>59.000000</td>\n",
       "      <td>10652.000000</td>\n",
       "    </tr>\n",
       "    <tr>\n",
       "      <th>max</th>\n",
       "      <td>5000.000000</td>\n",
       "      <td>3.000000</td>\n",
       "      <td>19.000000</td>\n",
       "      <td>83.000000</td>\n",
       "      <td>17614.000000</td>\n",
       "    </tr>\n",
       "  </tbody>\n",
       "</table>\n",
       "</div>"
      ],
      "text/plain": [
       "                No        Rooms    DistMetro         Area         Price\n",
       "count  5000.000000  5000.000000  5000.000000  5000.000000   5000.000000\n",
       "mean   2500.500000     1.999200     9.588000    47.558800   8550.912200\n",
       "std    1443.520003     0.813715     5.795151    17.167431   2985.530681\n",
       "min       1.000000     1.000000     0.000000    21.000000   2825.000000\n",
       "25%    1250.750000     1.000000     5.000000    31.000000   5904.750000\n",
       "50%    2500.500000     2.000000    10.000000    48.000000   8407.500000\n",
       "75%    3750.250000     3.000000    15.000000    59.000000  10652.000000\n",
       "max    5000.000000     3.000000    19.000000    83.000000  17614.000000"
      ]
     },
     "execution_count": 9,
     "metadata": {},
     "output_type": "execute_result"
    }
   ],
   "source": [
    "data.describe()"
   ]
  },
  {
   "cell_type": "code",
   "execution_count": 7,
   "metadata": {},
   "outputs": [
    {
     "data": {
      "text/html": [
       "<div>\n",
       "<style scoped>\n",
       "    .dataframe tbody tr th:only-of-type {\n",
       "        vertical-align: middle;\n",
       "    }\n",
       "\n",
       "    .dataframe tbody tr th {\n",
       "        vertical-align: top;\n",
       "    }\n",
       "\n",
       "    .dataframe thead th {\n",
       "        text-align: right;\n",
       "    }\n",
       "</style>\n",
       "<table border=\"1\" class=\"dataframe\">\n",
       "  <thead>\n",
       "    <tr style=\"text-align: right;\">\n",
       "      <th></th>\n",
       "      <th>No</th>\n",
       "      <th>Rooms</th>\n",
       "      <th>DistMetro</th>\n",
       "      <th>Area</th>\n",
       "      <th>Price</th>\n",
       "    </tr>\n",
       "  </thead>\n",
       "  <tbody>\n",
       "    <tr>\n",
       "      <th>0</th>\n",
       "      <td>1</td>\n",
       "      <td>2.0</td>\n",
       "      <td>16.0</td>\n",
       "      <td>29.0</td>\n",
       "      <td>5432.0</td>\n",
       "    </tr>\n",
       "  </tbody>\n",
       "</table>\n",
       "</div>"
      ],
      "text/plain": [
       "   No  Rooms  DistMetro  Area   Price\n",
       "0   1    2.0       16.0  29.0  5432.0"
      ]
     },
     "execution_count": 7,
     "metadata": {},
     "output_type": "execute_result"
    }
   ],
   "source": [
    "data.mode().head(1)"
   ]
  },
  {
   "cell_type": "code",
   "execution_count": 15,
   "metadata": {},
   "outputs": [],
   "source": [
    "price = data['Price']"
   ]
  },
  {
   "cell_type": "code",
   "execution_count": 16,
   "metadata": {},
   "outputs": [
    {
     "data": {
      "text/plain": [
       "Text(0.5, 0, 'Цена на квартиры')"
      ]
     },
     "execution_count": 16,
     "metadata": {},
     "output_type": "execute_result"
    },
    {
     "data": {
      "image/png": "[encoded data removed]",
      "text/plain": [
       "<Figure size 432x288 with 1 Axes>"
      ]
     },
     "metadata": {
      "needs_background": "light"
     },
     "output_type": "display_data"
    }
   ],
   "source": [
    "y = price.hist()\n",
    "y.set_ylabel('Количество квартир')\n",
    "y.set_xlabel('Цена на квартиры')"
   ]
  },
  {
   "cell_type": "markdown",
   "metadata": {},
   "source": [
    "С помощью методов относительногй статистики определено (для всех параметров): \n",
    "+ размер БД\n",
    "+ максимальное значение \n",
    "+ минимальное значение \n",
    "+ мода\n",
    "+ стандартнное отклонение\n",
    "+ медиана\n",
    "+ среднее значение \n",
    "+ квартили\n",
    "\n",
    "По графику можно предположить, что значения в этой БД распределены по Гамма-закону (https://habrastorage.org/getpro/habr/post_images/4f6/5f4/edb/4f65f4edb921715dbb56a320a65b101e.png)"
   ]
  },
  {
   "cell_type": "code",
   "execution_count": 12,
   "metadata": {},
   "outputs": [
    {
     "data": {
      "text/plain": [
       "array([3, 2, 1], dtype=int64)"
      ]
     },
     "execution_count": 12,
     "metadata": {},
     "output_type": "execute_result"
    }
   ],
   "source": [
    "data[\"Rooms\"].unique() #узнать скльки-клмнатные квартиры есть в БД"
   ]
  },
  {
   "cell_type": "code",
   "execution_count": null,
   "metadata": {},
   "outputs": [],
   "source": [
    "room1 = price[data['Rooms'] == 1]\n",
    "room2 = price[data['Rooms'] == 2]\n",
    "room3 = price[data['Rooms'] == 3]"
   ]
  },
  {
   "cell_type": "code",
   "execution_count": 25,
   "metadata": {},
   "outputs": [
    {
     "data": {
      "text/plain": [
       "Text(0.5, 0, 'Цена на 1-комнатные квартиры')"
      ]
     },
     "execution_count": 25,
     "metadata": {},
     "output_type": "execute_result"
    },
    {
     "data": {
      "image/png": "[encoded data removed]",
      "text/plain": [
       "<Figure size 432x288 with 1 Axes>"
      ]
     },
     "metadata": {
      "needs_background": "light"
     },
     "output_type": "display_data"
    }
   ],
   "source": [
    "y = room1.hist()\n",
    "y.set_ylabel('Количество квартир')\n",
    "y.set_xlabel('Цена на 1-комнатные квартиры')"
   ]
  },
  {
   "cell_type": "code",
   "execution_count": 26,
   "metadata": {},
   "outputs": [
    {
     "data": {
      "text/plain": [
       "Text(0.5, 0, 'Цена на 2-комнатные квартиры')"
      ]
     },
     "execution_count": 26,
     "metadata": {},
     "output_type": "execute_result"
    },
    {
     "data": {
      "image/png": "[encoded data removed]",
      "text/plain": [
       "<Figure size 432x288 with 1 Axes>"
      ]
     },
     "metadata": {
      "needs_background": "light"
     },
     "output_type": "display_data"
    }
   ],
   "source": [
    "y = room2.hist()\n",
    "y.set_ylabel('Количество квартир')\n",
    "y.set_xlabel('Цена на 2-комнатные квартиры')"
   ]
  },
  {
   "cell_type": "code",
   "execution_count": 27,
   "metadata": {},
   "outputs": [
    {
     "data": {
      "text/plain": [
       "Text(0.5, 0, 'Цена на 3-комнатные квартиры')"
      ]
     },
     "execution_count": 27,
     "metadata": {},
     "output_type": "execute_result"
    },
    {
     "data": {
      "image/png": "[encoded data removed]",
      "text/plain": [
       "<Figure size 432x288 with 1 Axes>"
      ]
     },
     "metadata": {
      "needs_background": "light"
     },
     "output_type": "display_data"
    }
   ],
   "source": [
    "y = room3.hist()\n",
    "y.set_ylabel('Количество квартир')\n",
    "y.set_xlabel('Цена на 3-комнатные квартиры')"
   ]
  },
  {
   "cell_type": "markdown",
   "metadata": {},
   "source": [
    "По построенным граикам можно предположить, что если рассматривать квартиры с одинаковым колиесвтом комнат, то их распределение почтиняется нормальному закону"
   ]
  },
  {
   "cell_type": "markdown",
   "metadata": {},
   "source": [
    "# Задание 2"
   ]
  },
  {
   "cell_type": "code",
   "execution_count": 37,
   "metadata": {},
   "outputs": [],
   "source": [
    "room1 = data[data['Rooms'] == 1]\n",
    "room2 = data[data['Rooms'] == 2]\n",
    "room3 = data[data['Rooms'] == 3]"
   ]
  },
  {
   "cell_type": "code",
   "execution_count": 39,
   "metadata": {},
   "outputs": [
    {
     "data": {
      "text/html": [
       "<div>\n",
       "<style scoped>\n",
       "    .dataframe tbody tr th:only-of-type {\n",
       "        vertical-align: middle;\n",
       "    }\n",
       "\n",
       "    .dataframe tbody tr th {\n",
       "        vertical-align: top;\n",
       "    }\n",
       "\n",
       "    .dataframe thead th {\n",
       "        text-align: right;\n",
       "    }\n",
       "</style>\n",
       "<table border=\"1\" class=\"dataframe\">\n",
       "  <thead>\n",
       "    <tr style=\"text-align: right;\">\n",
       "      <th></th>\n",
       "      <th>Price</th>\n",
       "      <th>Area</th>\n",
       "    </tr>\n",
       "  </thead>\n",
       "  <tbody>\n",
       "    <tr>\n",
       "      <th>Price</th>\n",
       "      <td>780506.330905</td>\n",
       "      <td>1989.519167</td>\n",
       "    </tr>\n",
       "    <tr>\n",
       "      <th>Area</th>\n",
       "      <td>1989.519167</td>\n",
       "      <td>11.899206</td>\n",
       "    </tr>\n",
       "  </tbody>\n",
       "</table>\n",
       "</div>"
      ],
      "text/plain": [
       "               Price         Area\n",
       "Price  780506.330905  1989.519167\n",
       "Area     1989.519167    11.899206"
      ]
     },
     "execution_count": 39,
     "metadata": {},
     "output_type": "execute_result"
    }
   ],
   "source": [
    "room1[['Price', 'Area']].cov()"
   ]
  },
  {
   "cell_type": "code",
   "execution_count": 43,
   "metadata": {},
   "outputs": [
    {
     "name": "stdout",
     "output_type": "stream",
     "text": [
      "0.6532254508775661\n",
      "65.32254508775661\n"
     ]
    }
   ],
   "source": [
    "corr1=1989.519167/(statistics.pstdev(room1['Price'])*statistics.pstdev(room1['Area']))\n",
    "print(corr1)\n",
    "print(corr1 * 100)"
   ]
  },
  {
   "cell_type": "code",
   "execution_count": 42,
   "metadata": {},
   "outputs": [
    {
     "data": {
      "text/html": [
       "<style  type=\"text/css\" >\n",
       "    #T_cc6390af_ba0a_11eb_a92c_54e1adf5f842row0_col0 {\n",
       "            background-color:  #b40426;\n",
       "            color:  #f1f1f1;\n",
       "        }    #T_cc6390af_ba0a_11eb_a92c_54e1adf5f842row0_col1 {\n",
       "            background-color:  #3b4cc0;\n",
       "            color:  #f1f1f1;\n",
       "        }    #T_cc6390af_ba0a_11eb_a92c_54e1adf5f842row1_col0 {\n",
       "            background-color:  #3b4cc0;\n",
       "            color:  #f1f1f1;\n",
       "        }    #T_cc6390af_ba0a_11eb_a92c_54e1adf5f842row1_col1 {\n",
       "            background-color:  #b40426;\n",
       "            color:  #f1f1f1;\n",
       "        }</style><table id=\"T_cc6390af_ba0a_11eb_a92c_54e1adf5f842\" ><thead>    <tr>        <th class=\"blank level0\" ></th>        <th class=\"col_heading level0 col0\" >Price</th>        <th class=\"col_heading level0 col1\" >Area</th>    </tr></thead><tbody>\n",
       "                <tr>\n",
       "                        <th id=\"T_cc6390af_ba0a_11eb_a92c_54e1adf5f842level0_row0\" class=\"row_heading level0 row0\" >Price</th>\n",
       "                        <td id=\"T_cc6390af_ba0a_11eb_a92c_54e1adf5f842row0_col0\" class=\"data row0 col0\" >1.00</td>\n",
       "                        <td id=\"T_cc6390af_ba0a_11eb_a92c_54e1adf5f842row0_col1\" class=\"data row0 col1\" >0.65</td>\n",
       "            </tr>\n",
       "            <tr>\n",
       "                        <th id=\"T_cc6390af_ba0a_11eb_a92c_54e1adf5f842level0_row1\" class=\"row_heading level0 row1\" >Area</th>\n",
       "                        <td id=\"T_cc6390af_ba0a_11eb_a92c_54e1adf5f842row1_col0\" class=\"data row1 col0\" >0.65</td>\n",
       "                        <td id=\"T_cc6390af_ba0a_11eb_a92c_54e1adf5f842row1_col1\" class=\"data row1 col1\" >1.00</td>\n",
       "            </tr>\n",
       "    </tbody></table>"
      ],
      "text/plain": [
       "<pandas.io.formats.style.Styler at 0x1be95883af0>"
      ]
     },
     "execution_count": 42,
     "metadata": {},
     "output_type": "execute_result"
    }
   ],
   "source": [
    "room1[['Price', 'Area']].corr().style.background_gradient(cmap='coolwarm').set_precision(2)"
   ]
  },
  {
   "cell_type": "markdown",
   "metadata": {},
   "source": [
    "Коэффициент Пирона = 0,65 (65 %)"
   ]
  },
  {
   "cell_type": "code",
   "execution_count": 45,
   "metadata": {},
   "outputs": [
    {
     "data": {
      "text/html": [
       "<div>\n",
       "<style scoped>\n",
       "    .dataframe tbody tr th:only-of-type {\n",
       "        vertical-align: middle;\n",
       "    }\n",
       "\n",
       "    .dataframe tbody tr th {\n",
       "        vertical-align: top;\n",
       "    }\n",
       "\n",
       "    .dataframe thead th {\n",
       "        text-align: right;\n",
       "    }\n",
       "</style>\n",
       "<table border=\"1\" class=\"dataframe\">\n",
       "  <thead>\n",
       "    <tr style=\"text-align: right;\">\n",
       "      <th></th>\n",
       "      <th>Price</th>\n",
       "      <th>Area</th>\n",
       "    </tr>\n",
       "  </thead>\n",
       "  <tbody>\n",
       "    <tr>\n",
       "      <th>Price</th>\n",
       "      <td>1.875752e+06</td>\n",
       "      <td>5793.161991</td>\n",
       "    </tr>\n",
       "    <tr>\n",
       "      <th>Area</th>\n",
       "      <td>5.793162e+03</td>\n",
       "      <td>35.914814</td>\n",
       "    </tr>\n",
       "  </tbody>\n",
       "</table>\n",
       "</div>"
      ],
      "text/plain": [
       "              Price         Area\n",
       "Price  1.875752e+06  5793.161991\n",
       "Area   5.793162e+03    35.914814"
      ]
     },
     "execution_count": 45,
     "metadata": {},
     "output_type": "execute_result"
    }
   ],
   "source": [
    "room2[['Price', 'Area']].cov()"
   ]
  },
  {
   "cell_type": "code",
   "execution_count": 46,
   "metadata": {},
   "outputs": [
    {
     "name": "stdout",
     "output_type": "stream",
     "text": [
      "0.2425385157548405\n",
      "24.25385157548405\n"
     ]
    }
   ],
   "source": [
    "corr2=1989.519167/(statistics.pstdev(room2['Price'])*statistics.pstdev(room2['Area']))\n",
    "print(corr2)\n",
    "print(corr2 * 100)"
   ]
  },
  {
   "cell_type": "code",
   "execution_count": 47,
   "metadata": {},
   "outputs": [
    {
     "data": {
      "text/html": [
       "<style  type=\"text/css\" >\n",
       "    #T_f7ea7f8e_ba0a_11eb_9c0e_54e1adf5f842row0_col0 {\n",
       "            background-color:  #b40426;\n",
       "            color:  #f1f1f1;\n",
       "        }    #T_f7ea7f8e_ba0a_11eb_9c0e_54e1adf5f842row0_col1 {\n",
       "            background-color:  #3b4cc0;\n",
       "            color:  #f1f1f1;\n",
       "        }    #T_f7ea7f8e_ba0a_11eb_9c0e_54e1adf5f842row1_col0 {\n",
       "            background-color:  #3b4cc0;\n",
       "            color:  #f1f1f1;\n",
       "        }    #T_f7ea7f8e_ba0a_11eb_9c0e_54e1adf5f842row1_col1 {\n",
       "            background-color:  #b40426;\n",
       "            color:  #f1f1f1;\n",
       "        }</style><table id=\"T_f7ea7f8e_ba0a_11eb_9c0e_54e1adf5f842\" ><thead>    <tr>        <th class=\"blank level0\" ></th>        <th class=\"col_heading level0 col0\" >Price</th>        <th class=\"col_heading level0 col1\" >Area</th>    </tr></thead><tbody>\n",
       "                <tr>\n",
       "                        <th id=\"T_f7ea7f8e_ba0a_11eb_9c0e_54e1adf5f842level0_row0\" class=\"row_heading level0 row0\" >Price</th>\n",
       "                        <td id=\"T_f7ea7f8e_ba0a_11eb_9c0e_54e1adf5f842row0_col0\" class=\"data row0 col0\" >1.00</td>\n",
       "                        <td id=\"T_f7ea7f8e_ba0a_11eb_9c0e_54e1adf5f842row0_col1\" class=\"data row0 col1\" >0.71</td>\n",
       "            </tr>\n",
       "            <tr>\n",
       "                        <th id=\"T_f7ea7f8e_ba0a_11eb_9c0e_54e1adf5f842level0_row1\" class=\"row_heading level0 row1\" >Area</th>\n",
       "                        <td id=\"T_f7ea7f8e_ba0a_11eb_9c0e_54e1adf5f842row1_col0\" class=\"data row1 col0\" >0.71</td>\n",
       "                        <td id=\"T_f7ea7f8e_ba0a_11eb_9c0e_54e1adf5f842row1_col1\" class=\"data row1 col1\" >1.00</td>\n",
       "            </tr>\n",
       "    </tbody></table>"
      ],
      "text/plain": [
       "<pandas.io.formats.style.Styler at 0x1be969bf220>"
      ]
     },
     "execution_count": 47,
     "metadata": {},
     "output_type": "execute_result"
    }
   ],
   "source": [
    "room2[['Price', 'Area']].corr().style.background_gradient(cmap='coolwarm').set_precision(2)"
   ]
  },
  {
   "cell_type": "markdown",
   "metadata": {},
   "source": [
    "Коэффициент Пирона = 0,71 (71 %)"
   ]
  },
  {
   "cell_type": "code",
   "execution_count": 48,
   "metadata": {},
   "outputs": [
    {
     "data": {
      "text/html": [
       "<div>\n",
       "<style scoped>\n",
       "    .dataframe tbody tr th:only-of-type {\n",
       "        vertical-align: middle;\n",
       "    }\n",
       "\n",
       "    .dataframe tbody tr th {\n",
       "        vertical-align: top;\n",
       "    }\n",
       "\n",
       "    .dataframe thead th {\n",
       "        text-align: right;\n",
       "    }\n",
       "</style>\n",
       "<table border=\"1\" class=\"dataframe\">\n",
       "  <thead>\n",
       "    <tr style=\"text-align: right;\">\n",
       "      <th></th>\n",
       "      <th>Price</th>\n",
       "      <th>Area</th>\n",
       "    </tr>\n",
       "  </thead>\n",
       "  <tbody>\n",
       "    <tr>\n",
       "      <th>Price</th>\n",
       "      <td>3.840079e+06</td>\n",
       "      <td>13052.97479</td>\n",
       "    </tr>\n",
       "    <tr>\n",
       "      <th>Area</th>\n",
       "      <td>1.305297e+04</td>\n",
       "      <td>79.99979</td>\n",
       "    </tr>\n",
       "  </tbody>\n",
       "</table>\n",
       "</div>"
      ],
      "text/plain": [
       "              Price         Area\n",
       "Price  3.840079e+06  13052.97479\n",
       "Area   1.305297e+04     79.99979"
      ]
     },
     "execution_count": 48,
     "metadata": {},
     "output_type": "execute_result"
    }
   ],
   "source": [
    "room3[['Price', 'Area']].cov()"
   ]
  },
  {
   "cell_type": "code",
   "execution_count": 49,
   "metadata": {},
   "outputs": [
    {
     "name": "stdout",
     "output_type": "stream",
     "text": [
      "0.11357858414438239\n",
      "11.357858414438239\n"
     ]
    }
   ],
   "source": [
    "corr3=1989.519167/(statistics.pstdev(room3['Price'])*statistics.pstdev(room3['Area']))\n",
    "print(corr3)\n",
    "print(corr3 * 100)"
   ]
  },
  {
   "cell_type": "code",
   "execution_count": 50,
   "metadata": {},
   "outputs": [
    {
     "data": {
      "text/html": [
       "<style  type=\"text/css\" >\n",
       "    #T_0f5a904b_ba0b_11eb_b7d1_54e1adf5f842row0_col0 {\n",
       "            background-color:  #b40426;\n",
       "            color:  #f1f1f1;\n",
       "        }    #T_0f5a904b_ba0b_11eb_b7d1_54e1adf5f842row0_col1 {\n",
       "            background-color:  #3b4cc0;\n",
       "            color:  #f1f1f1;\n",
       "        }    #T_0f5a904b_ba0b_11eb_b7d1_54e1adf5f842row1_col0 {\n",
       "            background-color:  #3b4cc0;\n",
       "            color:  #f1f1f1;\n",
       "        }    #T_0f5a904b_ba0b_11eb_b7d1_54e1adf5f842row1_col1 {\n",
       "            background-color:  #b40426;\n",
       "            color:  #f1f1f1;\n",
       "        }</style><table id=\"T_0f5a904b_ba0b_11eb_b7d1_54e1adf5f842\" ><thead>    <tr>        <th class=\"blank level0\" ></th>        <th class=\"col_heading level0 col0\" >Price</th>        <th class=\"col_heading level0 col1\" >Area</th>    </tr></thead><tbody>\n",
       "                <tr>\n",
       "                        <th id=\"T_0f5a904b_ba0b_11eb_b7d1_54e1adf5f842level0_row0\" class=\"row_heading level0 row0\" >Price</th>\n",
       "                        <td id=\"T_0f5a904b_ba0b_11eb_b7d1_54e1adf5f842row0_col0\" class=\"data row0 col0\" >1.00</td>\n",
       "                        <td id=\"T_0f5a904b_ba0b_11eb_b7d1_54e1adf5f842row0_col1\" class=\"data row0 col1\" >0.74</td>\n",
       "            </tr>\n",
       "            <tr>\n",
       "                        <th id=\"T_0f5a904b_ba0b_11eb_b7d1_54e1adf5f842level0_row1\" class=\"row_heading level0 row1\" >Area</th>\n",
       "                        <td id=\"T_0f5a904b_ba0b_11eb_b7d1_54e1adf5f842row1_col0\" class=\"data row1 col0\" >0.74</td>\n",
       "                        <td id=\"T_0f5a904b_ba0b_11eb_b7d1_54e1adf5f842row1_col1\" class=\"data row1 col1\" >1.00</td>\n",
       "            </tr>\n",
       "    </tbody></table>"
      ],
      "text/plain": [
       "<pandas.io.formats.style.Styler at 0x1be969bfac0>"
      ]
     },
     "execution_count": 50,
     "metadata": {},
     "output_type": "execute_result"
    }
   ],
   "source": [
    "room3[['Price', 'Area']].corr().style.background_gradient(cmap='coolwarm').set_precision(2)"
   ]
  },
  {
   "cell_type": "markdown",
   "metadata": {},
   "source": [
    "Коэффициент Пирона = 0,74 (74 %)"
   ]
  },
  {
   "cell_type": "markdown",
   "metadata": {},
   "source": [
    "Проведеннные действия для получения корреляция показывают существует ли связь между площадью квартиры и его цены (рассматривая при этом каждую категорию отдельно). Проанализировав полученные данные, можно сделать вывод, что такая связь существует, так как везде коэффициент корреляции > 0 => с увеличением площади квартиры, увеличивается и ее цена."
   ]
  },
  {
   "cell_type": "markdown",
   "metadata": {},
   "source": [
    "# Задание 3"
   ]
  },
  {
   "cell_type": "code",
   "execution_count": 51,
   "metadata": {},
   "outputs": [
    {
     "name": "stdout",
     "output_type": "stream",
     "text": [
      "Квантиль 10 %:  7146.0\n",
      "Квантиль 25 %:  7924.0\n",
      "Квантиль 50 %:  8812.0\n",
      "Квантиль 75 %:  9684.5\n"
     ]
    }
   ],
   "source": [
    "room240 = room2[room2['Area'] > 40]\n",
    "room240.quantile([0.1, 0.25, 0.5, 0.75], axis = 0) \n",
    "print('Квантиль 10 %: ', np.quantile(room240['Price'], 0.1))\n",
    "print('Квантиль 25 %: ', np.quantile(room240['Price'], 0.25))\n",
    "print('Квантиль 50 %: ', np.quantile(room240['Price'], 0.5))\n",
    "print('Квантиль 75 %: ', np.quantile(room240['Price'], 0.75))"
   ]
  },
  {
   "cell_type": "markdown",
   "metadata": {},
   "source": [
    "# Задание 4"
   ]
  },
  {
   "cell_type": "code",
   "execution_count": 82,
   "metadata": {},
   "outputs": [
    {
     "name": "stdout",
     "output_type": "stream",
     "text": [
      "Количество:  1653\n",
      "Средняя цена:  11749.978\n",
      "Для получения прибыли нужно продать квартир на сумму:  306666.667  (тыс. руб.)\n",
      "Для получения прибыли с 1 сделики нужно получить сумму:  12266.66668  (тыс. руб.)\n",
      "Количество квартир стоимсотью 12200-12500 тыс. руб.   616\n",
      "Вероятность:  0.373  или  37.3 %\n"
     ]
    }
   ],
   "source": [
    "room3 = price[data['Rooms'] == 3]\n",
    "\n",
    "N = room3.count()\n",
    "print('Количество: ', N)\n",
    "print('Средняя цена: ', round(room3.mean(), 3))\n",
    "\n",
    "pr = round(9200/0.03, 3)\n",
    "print('Для получения прибыли нужно продать квартир на сумму: ', pr, ' (тыс. руб.)')\n",
    "print('Для получения прибыли с 1 сделики нужно получить сумму: ', pr/25, ' (тыс. руб.)')\n",
    "\n",
    "count = room3[data['Price'] >= 12266].count()\n",
    "print('Количество квартир стоимсотью 12200-12500 тыс. руб.  ', count)\n",
    "\n",
    "V = round(count / N, 3)\n",
    "print('Вероятность: ', V, ' или ', V*100, '%')"
   ]
  },
  {
   "cell_type": "code",
   "execution_count": 55,
   "metadata": {},
   "outputs": [
    {
     "data": {
      "image/png": "[encoded data removed]",
      "text/plain": [
       "<Figure size 432x288 with 1 Axes>"
      ]
     },
     "metadata": {
      "needs_background": "light"
     },
     "output_type": "display_data"
    }
   ],
   "source": [
    "count, bins, ignored=plt.hist(room3, 20, density=True)\n",
    "plt.title('Вероятность покупки квартиры')\n",
    "plt.ylabel('Вероятность')\n",
    "plt.xlabel('Цена трехкомнатной квартиры')\n",
    "plt.grid(True)\n",
    "plt.show()"
   ]
  },
  {
   "cell_type": "markdown",
   "metadata": {},
   "source": [
    "Судя по графикку, можно предположит, что распределние нормальное"
   ]
  }
 ],
 "metadata": {
  "kernelspec": {
   "display_name": "Python 3",
   "language": "python",
   "name": "python3"
  },
  "language_info": {
   "codemirror_mode": {
    "name": "ipython",
    "version": 3
   },
   "file_extension": ".py",
   "mimetype": "text/x-python",
   "name": "python",
   "nbconvert_exporter": "python",
   "pygments_lexer": "ipython3",
   "version": "3.8.3"
  }
 },
 "nbformat": 4,
 "nbformat_minor": 4
}
